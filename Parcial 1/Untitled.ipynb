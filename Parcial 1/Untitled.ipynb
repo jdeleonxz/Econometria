{
 "cells": [
  {
   "cell_type": "code",
   "execution_count": 3,
   "id": "784d991c",
   "metadata": {},
   "outputs": [],
   "source": [
    "import pandas as pd\n",
    "import dtale"
   ]
  },
  {
   "cell_type": "code",
   "execution_count": null,
   "id": "e1e1911c",
   "metadata": {},
   "outputs": [],
   "source": []
  },
  {
   "cell_type": "code",
   "execution_count": 4,
   "id": "5cd3daa8",
   "metadata": {},
   "outputs": [],
   "source": [
    "datos = pd.read_stata('dataset_4.dta')"
   ]
  },
  {
   "cell_type": "code",
   "execution_count": 6,
   "id": "7174ae8e",
   "metadata": {},
   "outputs": [
    {
     "data": {
      "text/html": [
       "\n",
       "        <iframe\n",
       "            width=\"100%\"\n",
       "            height=\"475\"\n",
       "            src=\"http://DESKTOP-Q8AG8DJ:40000/dtale/iframe/1\"\n",
       "            frameborder=\"0\"\n",
       "            allowfullscreen\n",
       "            \n",
       "        ></iframe>\n",
       "        "
      ],
      "text/plain": [
       "<IPython.lib.display.IFrame at 0x2437ede78b0>"
      ]
     },
     "metadata": {},
     "output_type": "display_data"
    },
    {
     "data": {
      "text/plain": []
     },
     "execution_count": 6,
     "metadata": {},
     "output_type": "execute_result"
    },
    {
     "name": "stderr",
     "output_type": "stream",
     "text": [
      "2023-03-28 10:03:45,639 - ERROR    - Exception occurred while processing request: You must specify a period or x must be a pandas object with a PeriodIndex or a DatetimeIndex with a freq not set to None\n",
      "Traceback (most recent call last):\n",
      "  File \"C:\\Users\\Jorge De León\\AppData\\Roaming\\Python\\Python39\\site-packages\\dtale\\views.py\", line 111, in _handle_exceptions\n",
      "    return func(*args, **kwargs)\n",
      "  File \"C:\\Users\\Jorge De León\\AppData\\Roaming\\Python\\Python39\\site-packages\\dtale\\views.py\", line 3950, in get_timeseries_analysis\n",
      "    data = ts_rpt.run()\n",
      "  File \"C:\\Users\\Jorge De León\\AppData\\Roaming\\Python\\Python39\\site-packages\\dtale\\timeseries_analysis.py\", line 48, in run\n",
      "    return self.report.run(data)\n",
      "  File \"C:\\Users\\Jorge De León\\AppData\\Roaming\\Python\\Python39\\site-packages\\dtale\\timeseries_analysis.py\", line 110, in run\n",
      "    sd_df = seasonal_decompose(df, model=model)\n",
      "  File \"C:\\ProgramData\\Anaconda3\\lib\\site-packages\\statsmodels\\tsa\\seasonal.py\", line 159, in seasonal_decompose\n",
      "    raise ValueError(\n",
      "ValueError: You must specify a period or x must be a pandas object with a PeriodIndex or a DatetimeIndex with a freq not set to None\n",
      "2023-03-28 11:05:41,470 - INFO     - Executing shutdown due to inactivity...\n",
      "2023-03-28 11:05:54,105 - INFO     - Executing shutdown...\n",
      "C:\\Users\\Jorge De León\\AppData\\Roaming\\Python\\Python39\\site-packages\\dtale\\app.py:422: UserWarning:\n",
      "\n",
      "The 'environ['werkzeug.server.shutdown']' function is deprecated and will be removed in Werkzeug 2.1.\n",
      "\n"
     ]
    }
   ],
   "source": [
    "dtale.show(datos)"
   ]
  }
 ],
 "metadata": {
  "kernelspec": {
   "display_name": "Python 3 (ipykernel)",
   "language": "python",
   "name": "python3"
  },
  "language_info": {
   "codemirror_mode": {
    "name": "ipython",
    "version": 3
   },
   "file_extension": ".py",
   "mimetype": "text/x-python",
   "name": "python",
   "nbconvert_exporter": "python",
   "pygments_lexer": "ipython3",
   "version": "3.9.12"
  }
 },
 "nbformat": 4,
 "nbformat_minor": 5
}
